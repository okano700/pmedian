{
 "cells": [
  {
   "cell_type": "code",
   "execution_count": 1,
   "metadata": {},
   "outputs": [],
   "source": [
    "from utils.read_or import read_or_library\n",
    "from utils.VNS import VNS\n",
    "import pandas as pd\n",
    "from tqdm import tnrange \n",
    "from tqdm.notebook import trange\n",
    "\n"
   ]
  },
  {
   "cell_type": "code",
   "execution_count": 2,
   "metadata": {},
   "outputs": [],
   "source": [
    "data = pd.read_csv('dataset/pmed.csv',sep=',')"
   ]
  },
  {
   "cell_type": "code",
   "execution_count": null,
   "metadata": {},
   "outputs": [
    {
     "name": "stdout",
     "output_type": "stream",
     "text": [
      "pmed1\n",
      "numero de vertices\n",
      "100\n",
      "numero de arestas\n",
      "200\n",
      "p\n",
      "5\n"
     ]
    },
    {
     "data": {
      "application/vnd.jupyter.widget-view+json": {
       "model_id": "a54ed098b77b424f8d8c53d6f7f39179",
       "version_major": 2,
       "version_minor": 0
      },
      "text/plain": [
       "HBox(children=(HTML(value=''), FloatProgress(value=0.0, max=10.0), HTML(value='')))"
      ]
     },
     "metadata": {},
     "output_type": "display_data"
    }
   ],
   "source": [
    "res = []\n",
    "for index, row in data.iterrows():\n",
    "  best_solution = int(row[1])\n",
    "  print(row[0])\n",
    "  A, p, v = read_or_library('http://people.brunel.ac.uk/~mastjjb/jeb/orlib/files/'+row[0]+'.txt',999)\n",
    "  s0 = [i for i in range(int(p))]\n",
    "  results = []\n",
    "  for i in trange(10):\n",
    "    out = {}\n",
    "    sol, fo, log,time = VNS(A,list(s0),5,10,max_time= 600, opt = best_solution)\n",
    "    out['time'] = time\n",
    "    out['fo'] = fo\n",
    "    out['dataset'] = row[0]\n",
    "    results.append(out)\n",
    "    res.append(out)\n",
    "  save = pd.DataFrame(results)\n",
    "  save.to_csv('results/'+row[0]+'_10.csv')\n",
    "    \n",
    "ds = pd.DataFrame(res)\n",
    "save.to_csv('results/'+row[0]+'_10all.csv')"
   ]
  },
  {
   "cell_type": "code",
   "execution_count": null,
   "metadata": {},
   "outputs": [],
   "source": []
  }
 ],
 "metadata": {
  "kernelspec": {
   "display_name": "Python 3",
   "language": "python",
   "name": "python3"
  },
  "language_info": {
   "codemirror_mode": {
    "name": "ipython",
    "version": 3
   },
   "file_extension": ".py",
   "mimetype": "text/x-python",
   "name": "python",
   "nbconvert_exporter": "python",
   "pygments_lexer": "ipython3",
   "version": "3.9.0"
  }
 },
 "nbformat": 4,
 "nbformat_minor": 4
}
